{
  "nbformat": 4,
  "nbformat_minor": 0,
  "metadata": {
    "colab": {
      "provenance": []
    },
    "kernelspec": {
      "name": "python3",
      "display_name": "Python 3"
    },
    "language_info": {
      "name": "python"
    }
  },
  "cells": [
    {
      "cell_type": "code",
      "source": [
        "#importing Libraries\n",
        "import pandas as pd\n",
        "from sklearn.model_selection import train_test_split\n",
        "from sklearn.preprocessing import OneHotEncoder\n",
        "from sklearn.linear_model import LogisticRegression\n",
        "from sklearn.compose import ColumnTransformer\n",
        "from sklearn.pipeline import Pipeline\n",
        "from sklearn.metrics import accuracy_score, confusion_matrix\n",
        "import seaborn as sns\n",
        "import matplotlib.pyplot as plt\n",
        "import numpy as np"
      ],
      "metadata": {
        "id": "SKJciRn1fh-E"
      },
      "execution_count": null,
      "outputs": []
    },
    {
      "cell_type": "code",
      "source": [
        "data = pd.read_csv('/content/drive/MyDrive/flight_data_1.csv')"
      ],
      "metadata": {
        "id": "D1jYmuR0kUnm"
      },
      "execution_count": null,
      "outputs": []
    },
    {
      "cell_type": "code",
      "source": [
        "df = pd.DataFrame(data)\n",
        "\n",
        "print(\"##  Initial Historical Flight Data\")\n",
        "print(df)\n",
        "print(\"-\" * 40)"
      ],
      "metadata": {
        "colab": {
          "base_uri": "https://localhost:8080/"
        },
        "id": "mIeVQvCrxDM7",
        "outputId": "f1017e3a-4e46-456c-bdee-cb5cf53d4bcb"
      },
      "execution_count": null,
      "outputs": [
        {
          "output_type": "stream",
          "name": "stdout",
          "text": [
            "##  Initial Historical Flight Data\n",
            "     Flight            Carrier DepTime Delay\n",
            "0     SG973           SpiceJet   19:15   Yes\n",
            "1     AI911          Air India   12:20    No\n",
            "2     6E388             IndiGo   06:40    No\n",
            "3     AI951          Air India   11:40    No\n",
            "4     AI463          Air India   01:10    No\n",
            "...     ...                ...     ...   ...\n",
            "1265  6E871             IndiGo   05:25    No\n",
            "1266  IX537  Air India Express   15:20    No\n",
            "1267  AI951          Air India   11:55    No\n",
            "1268  AI387          Air India   08:10    No\n",
            "1269  IX249  Air India Express   12:15    No\n",
            "\n",
            "[1270 rows x 4 columns]\n",
            "----------------------------------------\n"
          ]
        }
      ]
    },
    {
      "cell_type": "markdown",
      "source": [
        "##2. Data Preprocessing"
      ],
      "metadata": {
        "id": "QTtj4YTUyXiW"
      }
    },
    {
      "cell_type": "code",
      "source": [
        "# Convert 'DepTime' to a numerical feature (hour of the day)\n",
        "df['DepHour'] = pd.to_datetime(df['DepTime'], format='%H:%M').dt.hour\n",
        "\n",
        "# Map the target variable 'Delay' to binary format (1 for 'Yes', 0 for 'No')\n",
        "df['Delay'] = df['Delay'].apply(lambda x: 1 if x == 'Yes' else 0)\n",
        "\n",
        "# Define features (X) and target (y)\n",
        "X = df[['Carrier', 'DepHour']]\n",
        "y = df['Delay']\n",
        "\n",
        "# Split into train and test sets\n",
        "X_train, X_test, y_train, y_test = train_test_split(\n",
        "    X, y, test_size=0.3, random_state=42, stratify=y\n",
        ")\n",
        "\n",
        "# Define the preprocessing steps for different column types\n",
        "# 'Carrier' is a categorical feature, so we use OneHotEncoder.\n",
        "# 'DepHour' is numerical and can be passed through without changes ('passthrough').\n",
        "preprocessor = ColumnTransformer(\n",
        "    transformers=[\n",
        "        ('cat', OneHotEncoder(handle_unknown='ignore'), ['Carrier']),\n",
        "        ('num', 'passthrough', ['DepHour'])\n",
        "    ])\n",
        "\n"
      ],
      "metadata": {
        "id": "pBubC9xvxNk6"
      },
      "execution_count": null,
      "outputs": []
    },
    {
      "cell_type": "markdown",
      "source": [
        "##3. Classification Model Training"
      ],
      "metadata": {
        "id": "tB0rg8k9ylk_"
      }
    },
    {
      "cell_type": "code",
      "source": [
        "# Create a pipeline that first preprocesses the data and then applies the logistic regression model\n",
        "model_pipeline = Pipeline(steps=[\n",
        "    ('preprocessor', preprocessor),\n",
        "    ('classifier', LogisticRegression())\n",
        "])\n",
        "\n",
        "# Train the model on the entire dataset\n",
        "model_pipeline.fit(X_train, y_train)\n",
        "print(\" Model training complete.\")"
      ],
      "metadata": {
        "colab": {
          "base_uri": "https://localhost:8080/"
        },
        "id": "1WD9aCDexbzZ",
        "outputId": "902dda6e-e350-4efe-c275-f7373ec4b7c7"
      },
      "execution_count": null,
      "outputs": [
        {
          "output_type": "stream",
          "name": "stdout",
          "text": [
            " Model training complete.\n"
          ]
        }
      ]
    },
    {
      "cell_type": "markdown",
      "source": [
        "##4. Model Evaluation"
      ],
      "metadata": {
        "id": "5xG4Uq4EyxON"
      }
    },
    {
      "cell_type": "code",
      "source": [
        "# Make predictions on the training data to evaluate\n",
        "y_pred = model_pipeline.predict(X_test)\n",
        "accuracy = accuracy_score(y_test, y_pred)\n",
        "conf_matrix = confusion_matrix(y_test, y_pred)\n",
        "\n",
        "print(f\" Model Evaluation\")\n",
        "print(f\"Accuracy: {accuracy:.2f}\")\n",
        "print(\"\\n**Confusion Matrix:**\")\n",
        "print(\"(Rows: Actual, Columns: Predicted)\")\n",
        "print(conf_matrix)\n",
        "\n",
        "# For better visualization of the confusion matrix\n",
        "plt.figure(figsize=(6, 4))\n",
        "sns.heatmap(conf_matrix, annot=True, fmt='d', cmap='Blues',\n",
        "            xticklabels=['On Time', 'Delayed'], yticklabels=['On Time', 'Delayed'])\n",
        "plt.xlabel('Predicted Status')\n",
        "plt.ylabel('Actual Status')\n",
        "plt.title('Confusion Matrix')\n",
        "plt.show()"
      ],
      "metadata": {
        "colab": {
          "base_uri": "https://localhost:8080/",
          "height": 532
        },
        "id": "qyT_fLXYzAxF",
        "outputId": "0696a741-69b0-45e4-9af9-6d2dd39f957c"
      },
      "execution_count": null,
      "outputs": [
        {
          "output_type": "stream",
          "name": "stdout",
          "text": [
            " Model Evaluation\n",
            "Accuracy: 0.94\n",
            "\n",
            "**Confusion Matrix:**\n",
            "(Rows: Actual, Columns: Predicted)\n",
            "[[288   7]\n",
            " [ 15  71]]\n"
          ]
        },
        {
          "output_type": "display_data",
          "data": {
            "text/plain": [
              "<Figure size 600x400 with 2 Axes>"
            ],
            "image/png": "[encoded data removed]"
          },
          "metadata": {}
        }
      ]
    },
    {
      "cell_type": "markdown",
      "source": [
        "##5. Prediction for New Flights"
      ],
      "metadata": {
        "id": "zhore7b1zRG9"
      }
    },
    {
      "cell_type": "code",
      "source": [
        "def predict_flight_delay(carrier, dep_time):\n",
        "\n",
        "    # Create a DataFrame from the new input\n",
        "    new_flight_data = pd.DataFrame({\n",
        "        'Carrier': [carrier],\n",
        "        'DepTime': [dep_time]\n",
        "    })\n",
        "\n",
        "    # Apply the same time feature extraction\n",
        "    new_flight_data['DepHour'] = pd.to_datetime(new_flight_data['DepTime'], format='%H:%M').dt.hour\n",
        "\n",
        "    # Select the features for prediction\n",
        "    X_new = new_flight_data[['Carrier', 'DepHour']]\n",
        "\n",
        "    # Predict the status (0 or 1)\n",
        "    prediction_code = model_pipeline.predict(X_new)[0]\n",
        "\n",
        "    # Predict the probabilities [P(No Delay), P(Delay)]\n",
        "    prediction_proba = model_pipeline.predict_proba(X_new)[0]\n",
        "\n",
        "    # Determine the status and format the output\n",
        "    status = \"Delayed\" if prediction_code == 1 else \"On Time\"\n",
        "    delay_probability = prediction_proba[1] * 100 # Probability of class '1' (Delay)\n",
        "\n",
        "    return f\"Prediction: Status: {status}** (Delay Probability: {delay_probability:.2f}%)\"\n",
        "\n",
        "# --- Expected Output Demonstration ---\n",
        "# User input interface\n",
        "input_carrier = \"Indigo\"\n",
        "input_dep_time = \"18:00\"\n",
        "\n",
        "print(f\"##  New Flight Prediction\")\n",
        "print(f\"Input: Flight: SG202, Carrier: {input_carrier}, DepTime: {input_dep_time}\")\n",
        "final_prediction = predict_flight_delay(carrier=input_carrier, dep_time=input_dep_time)\n",
        "print(final_prediction)"
      ],
      "metadata": {
        "colab": {
          "base_uri": "https://localhost:8080/"
        },
        "id": "u1U6IRNWkY51",
        "outputId": "c94a928a-0544-46ff-ad31-737758fe1cd6"
      },
      "execution_count": null,
      "outputs": [
        {
          "output_type": "stream",
          "name": "stdout",
          "text": [
            "##  New Flight Prediction\n",
            "Input: Flight: SG202, Carrier: Indigo, DepTime: 18:00\n",
            "Prediction: Status: Delayed** (Delay Probability: 58.93%)\n"
          ]
        }
      ]
    },
    {
      "cell_type": "code",
      "source": [
        "input_carrier_2 = \"Air India\"\n",
        "input_dep_time_2 = \"10:00\"\n",
        "print(f\"\\n**Input:** Flight: AI101, Carrier: {input_carrier_2}, DepTime: {input_dep_time_2}\")\n",
        "final_prediction_2 = predict_flight_delay(carrier=input_carrier_2, dep_time=input_dep_time_2)\n",
        "print(final_prediction_2)"
      ],
      "metadata": {
        "id": "HSERCtQTx41n",
        "colab": {
          "base_uri": "https://localhost:8080/"
        },
        "outputId": "2c15eb88-0ebb-4aa4-e030-5af502c31312"
      },
      "execution_count": null,
      "outputs": [
        {
          "output_type": "stream",
          "name": "stdout",
          "text": [
            "\n",
            "**Input:** Flight: AI101, Carrier: Air India, DepTime: 10:00\n",
            "Prediction: Status: On Time** (Delay Probability: 1.58%)\n"
          ]
        }
      ]
    }
  ]
}